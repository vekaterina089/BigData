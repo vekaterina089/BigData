{
  "nbformat": 4,
  "nbformat_minor": 0,
  "metadata": {
    "colab": {
      "provenance": [],
      "authorship_tag": "ABX9TyO2/vphFtCc6VpFcpw7+p/j",
      "include_colab_link": true
    },
    "kernelspec": {
      "name": "python3",
      "display_name": "Python 3"
    },
    "language_info": {
      "name": "python"
    }
  },
  "cells": [
    {
      "cell_type": "markdown",
      "metadata": {
        "id": "view-in-github",
        "colab_type": "text"
      },
      "source": [
        "<a href=\"https://colab.research.google.com/github/vekaterina089/BigData/blob/main/Untitled1.ipynb\" target=\"_parent\"><img src=\"https://colab.research.google.com/assets/colab-badge.svg\" alt=\"Open In Colab\"/></a>"
      ]
    },
    {
      "cell_type": "code",
      "execution_count": null,
      "metadata": {
        "colab": {
          "base_uri": "https://localhost:8080/"
        },
        "id": "uRWFPPzKz0xC",
        "outputId": "dc5e21f1-0041-41db-f27d-7c257497c6ea"
      },
      "outputs": [
        {
          "output_type": "stream",
          "name": "stdout",
          "text": [
            "Requirement already satisfied: pyspark in /usr/local/lib/python3.10/dist-packages (3.5.1)\n",
            "Requirement already satisfied: py4j==0.10.9.7 in /usr/local/lib/python3.10/dist-packages (from pyspark) (0.10.9.7)\n"
          ]
        }
      ],
      "source": [
        "# Установка PySpark\n",
        "!pip install pyspark\n",
        "\n",
        "from pyspark.sql import SparkSession\n",
        "from pyspark.sql.types import StructType, StructField, StringType, IntegerType, FloatType, TimestampType\n",
        "from pyspark.sql.functions import col\n",
        "import random\n",
        "from datetime import datetime, timedelta\n",
        "\n",
        "# Инициализация SparkSession\n",
        "spark = SparkSession.builder \\\n",
        "    .appName(\"Internet Shop Purchases Data Generation\") \\\n",
        "    .getOrCreate()\n",
        "\n",
        "# Список возможных товаров\n",
        "products = [\"Laptop\", \"Smartphone\", \"Tablet\", \"Headphones\", \"Smartwatch\"]\n",
        "\n",
        "# Генерация данных о покупках\n",
        "def generate_purchase_data(num_rows):\n",
        "    purchases = []\n",
        "\n",
        "    # Генерация данных для каждой строки\n",
        "    for _ in range(num_rows):\n",
        "        order_date = datetime.now() - timedelta(days=random.randint(0, 365))\n",
        "        user_id = random.randint(1, 1000)\n",
        "        product = random.choice(products)\n",
        "        quantity = random.randint(1, 5)\n",
        "        price = round(random.uniform(50, 2000), 2)  # Цена от 50 до 2000 с двумя знаками после запятой\n",
        "\n",
        "        purchases.append((order_date, user_id, product, quantity, price))\n",
        "\n",
        "    return purchases\n",
        "\n",
        "# Создание DataFrame для данных о покупках\n",
        "schema = StructType([\n",
        "    StructField(\"OrderDate\", TimestampType(), False),\n",
        "    StructField(\"UserID\", IntegerType(), False),\n",
        "    StructField(\"Product\", StringType(), False),\n",
        "    StructField(\"Quantity\", IntegerType(), False),\n",
        "    StructField(\"Price\", FloatType(), False)\n",
        "])\n",
        "\n",
        "# Генерация 1000 строк данных о покупках\n",
        "num_rows = 1000\n",
        "purchases_data = generate_purchase_data(num_rows)\n",
        "purchases_df = spark.createDataFrame(purchases_data, schema=schema)\n",
        "\n",
        "# Показать первые несколько строк DataFrame для проверки\n",
        "purchases_df.show(10)\n",
        "\n",
        "# Сохранение данных в формате CSV\n",
        "output_path = \"internet_shop_purchases.csv\"\n",
        "purchases_df.write.mode(\"overwrite\").csv(output_path, header=True)\n",
        "\n",
        "# Завершение работы с SparkSession\n",
        "spark.stop()\n"
      ]
    }
  ]
}