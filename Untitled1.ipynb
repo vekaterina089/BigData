{
  "nbformat": 4,
  "nbformat_minor": 0,
  "metadata": {
    "colab": {
      "provenance": [],
      "authorship_tag": "ABX9TyNJ0umfxzL8P3Y0pf+xLGCW",
      "include_colab_link": true
    },
    "kernelspec": {
      "name": "python3",
      "display_name": "Python 3"
    },
    "language_info": {
      "name": "python"
    }
  },
  "cells": [
    {
      "cell_type": "markdown",
      "metadata": {
        "id": "view-in-github",
        "colab_type": "text"
      },
      "source": [
        "<a href=\"https://colab.research.google.com/github/vekaterina089/BigData/blob/main/Untitled1.ipynb\" target=\"_parent\"><img src=\"https://colab.research.google.com/assets/colab-badge.svg\" alt=\"Open In Colab\"/></a>"
      ]
    },
    {
      "cell_type": "code",
      "execution_count": null,
      "metadata": {
        "colab": {
          "base_uri": "https://localhost:8080/"
        },
        "id": "uRWFPPzKz0xC",
        "outputId": "36937523-864b-4769-8848-d290002cdedf"
      },
      "outputs": [
        {
          "output_type": "stream",
          "name": "stdout",
          "text": [
            "Collecting pyspark\n",
            "  Downloading pyspark-3.5.1.tar.gz (317.0 MB)\n",
            "\u001b[2K     \u001b[90m━━━━━━━━━━━━━━━━━━━━━━━━━━━━━━━━━━━━━━━━\u001b[0m \u001b[32m317.0/317.0 MB\u001b[0m \u001b[31m3.5 MB/s\u001b[0m eta \u001b[36m0:00:00\u001b[0m\n",
            "\u001b[?25h  Preparing metadata (setup.py) ... \u001b[?25l\u001b[?25hdone\n",
            "Requirement already satisfied: py4j==0.10.9.7 in /usr/local/lib/python3.10/dist-packages (from pyspark) (0.10.9.7)\n",
            "Building wheels for collected packages: pyspark\n",
            "  Building wheel for pyspark (setup.py) ... \u001b[?25l\u001b[?25hdone\n",
            "  Created wheel for pyspark: filename=pyspark-3.5.1-py2.py3-none-any.whl size=317488491 sha256=809830f1ceb05caa48e6ae8fdcdca42b1b3b780f1b0c6072eccdb51f92325517\n",
            "  Stored in directory: /root/.cache/pip/wheels/80/1d/60/2c256ed38dddce2fdd93be545214a63e02fbd8d74fb0b7f3a6\n",
            "Successfully built pyspark\n",
            "Installing collected packages: pyspark\n",
            "Successfully installed pyspark-3.5.1\n",
            "+--------------------+------+----------+--------+-------+\n",
            "|           OrderDate|UserID|   Product|Quantity|  Price|\n",
            "+--------------------+------+----------+--------+-------+\n",
            "|java.util.Gregori...|   812|    Tablet|       3|  64.67|\n",
            "|java.util.Gregori...|   193|Smartphone|       1|1545.17|\n",
            "|java.util.Gregori...|   629|    Tablet|       3| 601.68|\n",
            "|java.util.Gregori...|   327|    Laptop|       3| 703.28|\n",
            "|java.util.Gregori...|   869|Smartwatch|       5|1467.56|\n",
            "|java.util.Gregori...|   465|Smartwatch|       1|1962.92|\n",
            "|java.util.Gregori...|    29|Smartphone|       3|  895.3|\n",
            "|java.util.Gregori...|   776|    Tablet|       3|1422.51|\n",
            "|java.util.Gregori...|   208|Smartphone|       5| 151.56|\n",
            "|java.util.Gregori...|   536|Headphones|       1|1392.98|\n",
            "+--------------------+------+----------+--------+-------+\n",
            "only showing top 10 rows\n",
            "\n"
          ]
        }
      ],
      "source": [
        "!pip install pyspark\n",
        "\n",
        "from pyspark.sql import SparkSession\n",
        "from pyspark.sql.types import StructType, StructField, StringType, IntegerType, FloatType\n",
        "from pyspark.sql.functions import col\n",
        "import random\n",
        "from datetime import datetime, timedelta\n",
        "\n",
        "# Инициализация SparkSession\n",
        "spark = SparkSession.builder \\\n",
        "    .appName(\"Internet Shop Purchases Data Generation\") \\\n",
        "    .getOrCreate()\n",
        "\n",
        "# Список возможных товаров\n",
        "products = [\"Laptop\", \"Smartphone\", \"Tablet\", \"Headphones\", \"Smartwatch\"]\n",
        "\n",
        "# Генерация данных о покупках\n",
        "def generate_purchase_data(num_rows):\n",
        "    purchases = []\n",
        "\n",
        "    # Генерация данных для каждой строки\n",
        "    for _ in range(num_rows):\n",
        "        order_date = datetime.now() - timedelta(days=random.randint(0, 365))\n",
        "        user_id = random.randint(1, 1000)\n",
        "        product = random.choice(products)\n",
        "        quantity = random.randint(1, 5)\n",
        "        price = round(random.uniform(50, 2000), 2)  # Цена от 50 до 2000 с двумя знаками после запятой\n",
        "\n",
        "        purchases.append((order_date, user_id, product, quantity, price))\n",
        "\n",
        "    return purchases\n",
        "\n",
        "# Создание DataFrame для данных о покупках\n",
        "schema = StructType([\n",
        "    StructField(\"OrderDate\", StringType(), False),\n",
        "    StructField(\"UserID\", IntegerType(), False),\n",
        "    StructField(\"Product\", StringType(), False),\n",
        "    StructField(\"Quantity\", IntegerType(), False),\n",
        "    StructField(\"Price\", FloatType(), False)\n",
        "])\n",
        "\n",
        "# Генерация 1000 строк данных о покупках\n",
        "num_rows = 1000\n",
        "purchases_data = generate_purchase_data(num_rows)\n",
        "purchases_df = spark.createDataFrame(purchases_data, schema=schema)\n",
        "\n",
        "# Показать первые несколько строк DataFrame для проверки\n",
        "purchases_df.show(10)\n",
        "\n",
        "# Сохранение данных в формате CSV\n",
        "output_path = \"internet_shop_purchases.csv\"\n",
        "purchases_df.write.mode(\"overwrite\").csv(output_path, header=True)\n",
        "\n",
        "# Завершение работы с SparkSession\n",
        "spark.stop()\n"
      ]
    }
  ]
}